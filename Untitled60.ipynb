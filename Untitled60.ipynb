{
  "nbformat": 4,
  "nbformat_minor": 0,
  "metadata": {
    "colab": {
      "provenance": []
    },
    "kernelspec": {
      "name": "python3",
      "display_name": "Python 3"
    },
    "language_info": {
      "name": "python"
    }
  },
  "cells": [
    {
      "cell_type": "markdown",
      "source": [
        "# Cоздание bam файлов"
      ],
      "metadata": {
        "id": "46kguItJw88v"
      }
    },
    {
      "cell_type": "markdown",
      "source": [
        "Задание 3\n",
        "\n",
        "Есть несколько bam-файлов, которые указываются в качестве параметров скрипта. Они отсортированны и в целом готовы для дальнейшего анализа. И файл генома genome.fasta.\n",
        "\n",
        "Надо с помощью программы VarScan создать vcf-файлы для каждого бама, в которых будут только снипы без инделов (и отфильтровать по частоте 0.25).\n",
        "\n",
        "Логи VarScan положить рядом с vcf-файлами, такие же названия файлов только с расширением log. Все образцы в скрипте надо запустить параллельно. А когда досчитается последний, выдать сообщение в терминал, что все посчиталось."
      ],
      "metadata": {
        "id": "VLJuy9CCvZQj"
      }
    },
    {
      "cell_type": "code",
      "source": [
        "!wget https://ftp.ncbi.nlm.nih.gov/genomes/all/GCF/000/005/845/GCF_000005845.2_ASM584v2/GCF_000005845.2_ASM584v2_genomic.fna.gz\n",
        "!wget https://ftp.ncbi.nlm.nih.gov/genomes/all/GCF/000/005/845/GCF_000005845.2_ASM584v2/GCF_000005845.2_ASM584v2_genomic.gff.gz"
      ],
      "metadata": {
        "colab": {
          "base_uri": "https://localhost:8080/"
        },
        "id": "P_FZqRCQu5Xw",
        "outputId": "dea52954-d088-4132-8cea-fc69be7cbc4c"
      },
      "execution_count": 12,
      "outputs": [
        {
          "output_type": "stream",
          "name": "stdout",
          "text": [
            "--2023-12-16 13:23:32--  https://ftp.ncbi.nlm.nih.gov/genomes/all/GCF/000/005/845/GCF_000005845.2_ASM584v2/GCF_000005845.2_ASM584v2_genomic.fna.gz\n",
            "Resolving ftp.ncbi.nlm.nih.gov (ftp.ncbi.nlm.nih.gov)... 130.14.250.13, 130.14.250.7, 2607:f220:41e:250::10, ...\n",
            "Connecting to ftp.ncbi.nlm.nih.gov (ftp.ncbi.nlm.nih.gov)|130.14.250.13|:443... connected.\n",
            "HTTP request sent, awaiting response... 200 OK\n",
            "Length: 1379902 (1.3M) [application/x-gzip]\n",
            "Saving to: ‘GCF_000005845.2_ASM584v2_genomic.fna.gz’\n",
            "\n",
            "GCF_000005845.2_ASM 100%[===================>]   1.32M  6.96MB/s    in 0.2s    \n",
            "\n",
            "2023-12-16 13:23:33 (6.96 MB/s) - ‘GCF_000005845.2_ASM584v2_genomic.fna.gz’ saved [1379902/1379902]\n",
            "\n",
            "--2023-12-16 13:23:33--  https://ftp.ncbi.nlm.nih.gov/genomes/all/GCF/000/005/845/GCF_000005845.2_ASM584v2/GCF_000005845.2_ASM584v2_genomic.gff.gz\n",
            "Resolving ftp.ncbi.nlm.nih.gov (ftp.ncbi.nlm.nih.gov)... 130.14.250.13, 130.14.250.7, 2607:f220:41e:250::10, ...\n",
            "Connecting to ftp.ncbi.nlm.nih.gov (ftp.ncbi.nlm.nih.gov)|130.14.250.13|:443... connected.\n",
            "HTTP request sent, awaiting response... 200 OK\n",
            "Length: 433547 (423K) [application/x-gzip]\n",
            "Saving to: ‘GCF_000005845.2_ASM584v2_genomic.gff.gz’\n",
            "\n",
            "GCF_000005845.2_ASM 100%[===================>] 423.39K  --.-KB/s    in 0.1s    \n",
            "\n",
            "2023-12-16 13:23:34 (3.06 MB/s) - ‘GCF_000005845.2_ASM584v2_genomic.gff.gz’ saved [433547/433547]\n",
            "\n"
          ]
        }
      ]
    },
    {
      "cell_type": "markdown",
      "source": [
        "fna = FastA format file (файл формата FastA, содержащий нуклеотидную последовательность (ДНК))\n",
        "gff = general feature format (содержащий геномные области, «гены, транскрипты и т.д.»)"
      ],
      "metadata": {
        "id": "UVeCMW8UyE-W"
      }
    },
    {
      "cell_type": "code",
      "source": [
        "!gunzip GCF_000005845.2_ASM584v2_genomic.fna.gz\n",
        "!gunzip GCF_000005845.2_ASM584v2_genomic.gff.gz"
      ],
      "metadata": {
        "id": "4fiovpZ1wh2n"
      },
      "execution_count": 13,
      "outputs": []
    },
    {
      "cell_type": "code",
      "source": [
        "!gzip -dk amp_res_1.fastq.gz\n",
        "!gzip -dk amp_res_2.fastq.gz"
      ],
      "metadata": {
        "id": "w03SCXPJzG2u"
      },
      "execution_count": 15,
      "outputs": []
    },
    {
      "cell_type": "code",
      "source": [
        "!wget https://repo.anaconda.com/miniconda/Miniconda3-latest-Linux-x86_64.sh\n",
        "!chmod +x Miniconda3-latest-Linux-x86_64.sh\n",
        "!./Miniconda3-latest-Linux-x86_64.sh -b -f -p /usr/local"
      ],
      "metadata": {
        "colab": {
          "base_uri": "https://localhost:8080/"
        },
        "id": "cBHfbQUEyc1J",
        "outputId": "1290a6a2-9b5b-4b4a-fa91-bf20281e5f07"
      },
      "execution_count": 14,
      "outputs": [
        {
          "output_type": "stream",
          "name": "stdout",
          "text": [
            "--2023-12-16 13:23:41--  https://repo.anaconda.com/miniconda/Miniconda3-latest-Linux-x86_64.sh\n",
            "Resolving repo.anaconda.com (repo.anaconda.com)... 104.16.130.3, 104.16.131.3, 2606:4700::6810:8303, ...\n",
            "Connecting to repo.anaconda.com (repo.anaconda.com)|104.16.130.3|:443... connected.\n",
            "HTTP request sent, awaiting response... 200 OK\n",
            "Length: 120986213 (115M) [application/x-sh]\n",
            "Saving to: ‘Miniconda3-latest-Linux-x86_64.sh.1’\n",
            "\n",
            "Miniconda3-latest-L 100%[===================>] 115.38M  98.2MB/s    in 1.2s    \n",
            "\n",
            "2023-12-16 13:23:42 (98.2 MB/s) - ‘Miniconda3-latest-Linux-x86_64.sh.1’ saved [120986213/120986213]\n",
            "\n",
            "PREFIX=/usr/local\n",
            "Unpacking payload ...\n",
            "                                                                                        \n",
            "Installing base environment...\n",
            "\n",
            "\n",
            "Downloading and Extracting Packages\n",
            "\n",
            "Preparing transaction: - \b\bdone\n",
            "Executing transaction: | \b\bdone\n",
            "installation finished.\n",
            "WARNING:\n",
            "    You currently have a PYTHONPATH environment variable set. This may cause\n",
            "    unexpected behavior when running the Python interpreter in Miniconda3.\n",
            "    For best results, please verify that your PYTHONPATH only points to\n",
            "    directories of packages that are compatible with the Python interpreter\n",
            "    in Miniconda3: /usr/local\n"
          ]
        }
      ]
    },
    {
      "cell_type": "code",
      "source": [
        "!conda install -c bioconda bwa -y"
      ],
      "metadata": {
        "colab": {
          "base_uri": "https://localhost:8080/"
        },
        "id": "9p3pcoIqzbKu",
        "outputId": "b32c40ab-5534-43d1-e61b-8b97cb2600fb"
      },
      "execution_count": 18,
      "outputs": [
        {
          "output_type": "stream",
          "name": "stdout",
          "text": [
            "Channels:\n",
            " - bioconda\n",
            " - defaults\n",
            "Platform: linux-64\n",
            "Collecting package metadata (repodata.json): - \b\b\\ \b\b| \b\b/ \b\b- \b\b\\ \b\b| \b\b/ \b\b- \b\b\\ \b\b| \b\b/ \b\b- \b\b\\ \b\b| \b\b/ \b\b- \b\b\\ \b\b| \b\b/ \b\b- \b\b\\ \b\b| \b\b/ \b\b- \b\b\\ \b\b| \b\b/ \b\b- \b\b\\ \b\b| \b\b/ \b\b- \b\b\\ \b\b| \b\b/ \b\b- \b\b\\ \b\b| \b\b/ \b\b- \b\b\\ \b\bdone\n",
            "Solving environment: / \b\b- \b\bdone\n",
            "\n",
            "## Package Plan ##\n",
            "\n",
            "  environment location: /usr/local\n",
            "\n",
            "  added / updated specs:\n",
            "    - bwa\n",
            "\n",
            "\n",
            "The following packages will be downloaded:\n",
            "\n",
            "    package                    |            build\n",
            "    ---------------------------|-----------------\n",
            "    bwa-0.7.17                 |       h5bf99c6_8         608 KB  bioconda\n",
            "    certifi-2023.11.17         |  py311h06a4308_0         159 KB\n",
            "    conda-23.11.0              |  py311h06a4308_0         1.3 MB\n",
            "    distro-1.8.0               |  py311h06a4308_0          37 KB\n",
            "    gdbm-1.18                  |       hd4cb3f1_4         194 KB\n",
            "    menuinst-2.0.1             |  py311h06a4308_1         164 KB\n",
            "    perl-5.34.0                |       h5eee18b_2        12.4 MB\n",
            "    platformdirs-3.10.0        |  py311h06a4308_0          37 KB\n",
            "    ------------------------------------------------------------\n",
            "                                           Total:        14.8 MB\n",
            "\n",
            "The following NEW packages will be INSTALLED:\n",
            "\n",
            "  bwa                bioconda/linux-64::bwa-0.7.17-h5bf99c6_8 \n",
            "  distro             pkgs/main/linux-64::distro-1.8.0-py311h06a4308_0 \n",
            "  gdbm               pkgs/main/linux-64::gdbm-1.18-hd4cb3f1_4 \n",
            "  menuinst           pkgs/main/linux-64::menuinst-2.0.1-py311h06a4308_1 \n",
            "  perl               pkgs/main/linux-64::perl-5.34.0-h5eee18b_2 \n",
            "  platformdirs       pkgs/main/linux-64::platformdirs-3.10.0-py311h06a4308_0 \n",
            "\n",
            "The following packages will be UPDATED:\n",
            "\n",
            "  certifi                         2023.7.22-py311h06a4308_0 --> 2023.11.17-py311h06a4308_0 \n",
            "  conda                             23.10.0-py311h06a4308_0 --> 23.11.0-py311h06a4308_0 \n",
            "\n",
            "\n",
            "\n",
            "Downloading and Extracting Packages:\n",
            "platformdirs-3.10.0  | 37 KB     | :   0% 0/1 [00:00<?, ?it/s]\n",
            "conda-23.11.0        | 1.3 MB    | :   0% 0/1 [00:00<?, ?it/s]\u001b[A\n",
            "\n",
            "menuinst-2.0.1       | 164 KB    | :   0% 0/1 [00:00<?, ?it/s]\u001b[A\u001b[A\n",
            "\n",
            "\n",
            "certifi-2023.11.17   | 159 KB    | :   0% 0/1 [00:00<?, ?it/s]\u001b[A\u001b[A\u001b[A\n",
            "\n",
            "\n",
            "\n",
            "perl-5.34.0          | 12.4 MB   | :   0% 0/1 [00:00<?, ?it/s]\u001b[A\u001b[A\u001b[A\u001b[A\n",
            "\n",
            "\n",
            "\n",
            "\n",
            "distro-1.8.0         | 37 KB     | :   0% 0/1 [00:00<?, ?it/s]\u001b[A\u001b[A\u001b[A\u001b[A\u001b[A\n",
            "\n",
            "\n",
            "\n",
            "\n",
            "\n",
            "bwa-0.7.17           | 608 KB    | :   0% 0/1 [00:00<?, ?it/s]\u001b[A\u001b[A\u001b[A\u001b[A\u001b[A\u001b[A\n",
            "\n",
            "\n",
            "\n",
            "\n",
            "\n",
            "\n",
            "gdbm-1.18            | 194 KB    | :   0% 0/1 [00:00<?, ?it/s]\u001b[A\u001b[A\u001b[A\u001b[A\u001b[A\u001b[A\u001b[A\n",
            "\n",
            "menuinst-2.0.1       | 164 KB    | :  10% 0.09740553137856413/1 [00:00<00:01,  1.40s/it]\u001b[A\u001b[A\n",
            "\n",
            "\n",
            "platformdirs-3.10.0  | 37 KB     | :  43% 0.4268556392152776/1 [00:00<00:00,  2.90it/s]\n",
            "conda-23.11.0        | 1.3 MB    | :   1% 0.012318130146337942/1 [00:00<00:12, 12.63s/it]\u001b[A\n",
            "\n",
            "\n",
            "\n",
            "perl-5.34.0          | 12.4 MB   | :   0% 0.001261326941501575/1 [00:00<02:02, 122.79s/it]\u001b[A\u001b[A\u001b[A\u001b[A\n",
            "\n",
            "\n",
            "\n",
            "\n",
            "platformdirs-3.10.0  | 37 KB     | : 100% 1.0/1 [00:00<00:00,  2.90it/s]               \n",
            "\n",
            "\n",
            "\n",
            "\n",
            "\n",
            "\n",
            "gdbm-1.18            | 194 KB    | :   8% 0.08247671784545683/1 [00:00<00:02,  2.25s/it]\u001b[A\u001b[A\u001b[A\u001b[A\u001b[A\u001b[A\u001b[A\n",
            "\n",
            "\n",
            "certifi-2023.11.17   | 159 KB    | : 100% 1.0/1 [00:00<00:00,  4.84it/s]               \u001b[A\u001b[A\u001b[A\n",
            "\n",
            "\n",
            "certifi-2023.11.17   | 159 KB    | : 100% 1.0/1 [00:00<00:00,  4.84it/s]\u001b[A\u001b[A\u001b[A\n",
            "\n",
            "\n",
            "\n",
            "perl-5.34.0          | 12.4 MB   | :  24% 0.24217477276830238/1 [00:00<00:00,  1.16it/s]  \u001b[A\u001b[A\u001b[A\u001b[A\n",
            "\n",
            "\n",
            "\n",
            "\n",
            "distro-1.8.0         | 37 KB     | : 100% 1.0/1 [00:00<00:00,  3.96it/s]               \u001b[A\u001b[A\u001b[A\u001b[A\u001b[A\n",
            "\n",
            "\n",
            "\n",
            "\n",
            "distro-1.8.0         | 37 KB     | : 100% 1.0/1 [00:00<00:00,  3.96it/s]\u001b[A\u001b[A\u001b[A\u001b[A\u001b[A\n",
            "\n",
            "menuinst-2.0.1       | 164 KB    | : 100% 1.0/1 [00:00<00:00,  4.02it/s]                \u001b[A\u001b[A\n",
            "\n",
            "menuinst-2.0.1       | 164 KB    | : 100% 1.0/1 [00:00<00:00,  4.02it/s]\u001b[A\u001b[A\n",
            "\n",
            "\n",
            "\n",
            "\n",
            "\n",
            "bwa-0.7.17           | 608 KB    | :   3% 0.026304128643629146/1 [00:00<00:11, 11.39s/it]\u001b[A\u001b[A\u001b[A\u001b[A\u001b[A\u001b[A\n",
            "\n",
            "\n",
            "\n",
            "\n",
            "\n",
            "\n",
            "gdbm-1.18            | 194 KB    | : 100% 1.0/1 [00:00<00:00,  3.66it/s]                \u001b[A\u001b[A\u001b[A\u001b[A\u001b[A\u001b[A\u001b[A\n",
            "\n",
            "\n",
            "\n",
            "\n",
            "\n",
            "\n",
            "gdbm-1.18            | 194 KB    | : 100% 1.0/1 [00:00<00:00,  3.66it/s]\u001b[A\u001b[A\u001b[A\u001b[A\u001b[A\u001b[A\u001b[A\n",
            "\n",
            "\n",
            "\n",
            "perl-5.34.0          | 12.4 MB   | :  54% 0.5360639501381693/1 [00:00<00:00,  1.88it/s] \u001b[A\u001b[A\u001b[A\u001b[A\n",
            "\n",
            "\n",
            "\n",
            "\n",
            "\n",
            "bwa-0.7.17           | 608 KB    | : 100% 1.0/1 [00:00<00:00,  2.45it/s]                 \u001b[A\u001b[A\u001b[A\u001b[A\u001b[A\u001b[A\n",
            "\n",
            "\n",
            "\n",
            "\n",
            "\n",
            "bwa-0.7.17           | 608 KB    | : 100% 1.0/1 [00:00<00:00,  2.45it/s]\u001b[A\u001b[A\u001b[A\u001b[A\u001b[A\u001b[A\n",
            "conda-23.11.0        | 1.3 MB    | : 100% 1.0/1 [00:00<00:00,  1.82it/s]                 \u001b[A\n",
            "conda-23.11.0        | 1.3 MB    | : 100% 1.0/1 [00:00<00:00,  1.82it/s]\u001b[A\n",
            "\n",
            "\n",
            "\n",
            "perl-5.34.0          | 12.4 MB   | : 100% 1.0/1 [00:00<00:00,  1.00it/s]               \u001b[A\u001b[A\u001b[A\u001b[A\n",
            "\n",
            "\n",
            "\n",
            "                                                                        \n",
            "                                                                        \u001b[A\n",
            "\n",
            "                                                                        \u001b[A\u001b[A\n",
            "\n",
            "\n",
            "                                                                        \u001b[A\u001b[A\u001b[A\n",
            "\n",
            "\n",
            "\n",
            "                                                                        \u001b[A\u001b[A\u001b[A\u001b[A\n",
            "\n",
            "\n",
            "\n",
            "\n",
            "                                                                        \u001b[A\u001b[A\u001b[A\u001b[A\u001b[A\n",
            "\n",
            "\n",
            "\n",
            "\n",
            "\n",
            "                                                                        \u001b[A\u001b[A\u001b[A\u001b[A\u001b[A\u001b[A\n",
            "\n",
            "\n",
            "\n",
            "\n",
            "\n",
            "\n",
            "                                                                        \u001b[A\u001b[A\u001b[A\u001b[A\u001b[A\u001b[A\u001b[A\n",
            "Preparing transaction: | \b\bdone\n",
            "Verifying transaction: - \b\b\\ \b\bdone\n",
            "Executing transaction: / \b\b- \b\bdone\n"
          ]
        }
      ]
    },
    {
      "cell_type": "code",
      "source": [
        "!bwa index GCF_000005845.2_ASM584v2_genomic.fna"
      ],
      "metadata": {
        "colab": {
          "base_uri": "https://localhost:8080/"
        },
        "id": "tizEmkoUzfoF",
        "outputId": "c0d8b744-a73b-4b71-944d-4f0d49fa5f30"
      },
      "execution_count": 19,
      "outputs": [
        {
          "output_type": "stream",
          "name": "stdout",
          "text": [
            "[bwa_index] Pack FASTA... 0.03 sec\n",
            "[bwa_index] Construct BWT for the packed sequence...\n",
            "[bwa_index] 0.84 seconds elapse.\n",
            "[bwa_index] Update BWT... 0.02 sec\n",
            "[bwa_index] Pack forward-only FASTA... 0.02 sec\n",
            "[bwa_index] Construct SA from BWT and Occ... 0.35 sec\n",
            "[main] Version: 0.7.17-r1188\n",
            "[main] CMD: bwa index GCF_000005845.2_ASM584v2_genomic.fna\n",
            "[main] Real time: 1.323 sec; CPU: 1.258 sec\n"
          ]
        }
      ]
    },
    {
      "cell_type": "code",
      "source": [
        "!bwa mem GCF_000005845.2_ASM584v2_genomic.fna amp_res_1.fastq > alignment_1.sam\n",
        "!bwa mem GCF_000005845.2_ASM584v2_genomic.fna amp_res_2.fastq > alignment_2.sam"
      ],
      "metadata": {
        "colab": {
          "base_uri": "https://localhost:8080/"
        },
        "id": "Wgil__q1zvAO",
        "outputId": "7d023a6d-0d03-4439-9d26-2e636a9013a1"
      },
      "execution_count": 22,
      "outputs": [
        {
          "output_type": "stream",
          "name": "stdout",
          "text": [
            "[M::bwa_idx_load_from_disk] read 0 ALT contigs\n",
            "[M::process] read 99010 sequences (10000010 bp)...\n",
            "[M::process] read 99010 sequences (10000010 bp)...\n",
            "[M::mem_process_seqs] Processed 99010 reads in 3.338 CPU sec, 3.277 real sec\n",
            "[M::process] read 99010 sequences (10000010 bp)...\n",
            "[M::mem_process_seqs] Processed 99010 reads in 3.093 CPU sec, 2.971 real sec\n",
            "[M::process] read 99010 sequences (10000010 bp)...\n",
            "[M::mem_process_seqs] Processed 99010 reads in 3.155 CPU sec, 3.033 real sec\n",
            "[M::process] read 59836 sequences (6043436 bp)...\n",
            "[M::mem_process_seqs] Processed 99010 reads in 3.813 CPU sec, 3.736 real sec\n",
            "[M::mem_process_seqs] Processed 59836 reads in 2.076 CPU sec, 2.100 real sec\n",
            "[main] Version: 0.7.17-r1188\n",
            "[main] CMD: bwa mem GCF_000005845.2_ASM584v2_genomic.fna amp_res_1.fastq\n",
            "[main] Real time: 15.572 sec; CPU: 15.571 sec\n",
            "[M::bwa_idx_load_from_disk] read 0 ALT contigs\n",
            "[M::process] read 99010 sequences (10000010 bp)...\n",
            "[M::process] read 99010 sequences (10000010 bp)...\n",
            "[M::mem_process_seqs] Processed 99010 reads in 3.190 CPU sec, 3.117 real sec\n",
            "[M::process] read 99010 sequences (10000010 bp)...\n",
            "[M::mem_process_seqs] Processed 99010 reads in 2.967 CPU sec, 2.843 real sec\n",
            "[M::process] read 99010 sequences (10000010 bp)...\n",
            "[M::mem_process_seqs] Processed 99010 reads in 3.353 CPU sec, 3.240 real sec\n",
            "[M::process] read 59836 sequences (6043436 bp)...\n",
            "[M::mem_process_seqs] Processed 99010 reads in 3.208 CPU sec, 3.194 real sec\n",
            "[M::mem_process_seqs] Processed 59836 reads in 1.822 CPU sec, 1.771 real sec\n",
            "[main] Version: 0.7.17-r1188\n",
            "[main] CMD: bwa mem GCF_000005845.2_ASM584v2_genomic.fna amp_res_2.fastq\n",
            "[main] Real time: 14.662 sec; CPU: 14.636 sec\n"
          ]
        }
      ]
    },
    {
      "cell_type": "code",
      "source": [
        "!sudo apt install bowtie2 samtools"
      ],
      "metadata": {
        "colab": {
          "base_uri": "https://localhost:8080/"
        },
        "id": "9f3zIXki0AXP",
        "outputId": "9ad839a1-0cba-4a41-d70c-8c83806e568d"
      },
      "execution_count": 23,
      "outputs": [
        {
          "output_type": "stream",
          "name": "stdout",
          "text": [
            "Reading package lists... Done\n",
            "Building dependency tree... Done\n",
            "Reading state information... Done\n",
            "The following additional packages will be installed:\n",
            "  libhts3 libhtscodecs2\n",
            "Suggested packages:\n",
            "  bowtie2-examples cwltool\n",
            "The following NEW packages will be installed:\n",
            "  bowtie2 libhts3 libhtscodecs2 samtools\n",
            "0 upgraded, 4 newly installed, 0 to remove and 24 not upgraded.\n",
            "Need to get 2,131 kB of archives.\n",
            "After this operation, 6,005 kB of additional disk space will be used.\n",
            "Get:1 http://archive.ubuntu.com/ubuntu jammy/universe amd64 libhtscodecs2 amd64 1.1.1-3 [53.2 kB]\n",
            "Get:2 http://archive.ubuntu.com/ubuntu jammy/universe amd64 libhts3 amd64 1.13+ds-2build1 [390 kB]\n",
            "Get:3 http://archive.ubuntu.com/ubuntu jammy/universe amd64 samtools amd64 1.13-4 [520 kB]\n",
            "Get:4 http://archive.ubuntu.com/ubuntu jammy/universe amd64 bowtie2 amd64 2.4.4-1 [1,169 kB]\n",
            "Fetched 2,131 kB in 1s (1,742 kB/s)\n",
            "debconf: unable to initialize frontend: Dialog\n",
            "debconf: (No usable dialog-like program is installed, so the dialog based frontend cannot be used. at /usr/share/perl5/Debconf/FrontEnd/Dialog.pm line 78, <> line 4.)\n",
            "debconf: falling back to frontend: Readline\n",
            "debconf: unable to initialize frontend: Readline\n",
            "debconf: (This frontend requires a controlling tty.)\n",
            "debconf: falling back to frontend: Teletype\n",
            "dpkg-preconfigure: unable to re-open stdin: \n",
            "Selecting previously unselected package libhtscodecs2:amd64.\n",
            "(Reading database ... 121666 files and directories currently installed.)\n",
            "Preparing to unpack .../libhtscodecs2_1.1.1-3_amd64.deb ...\n",
            "Unpacking libhtscodecs2:amd64 (1.1.1-3) ...\n",
            "Selecting previously unselected package libhts3:amd64.\n",
            "Preparing to unpack .../libhts3_1.13+ds-2build1_amd64.deb ...\n",
            "Unpacking libhts3:amd64 (1.13+ds-2build1) ...\n",
            "Selecting previously unselected package samtools.\n",
            "Preparing to unpack .../samtools_1.13-4_amd64.deb ...\n",
            "Unpacking samtools (1.13-4) ...\n",
            "Selecting previously unselected package bowtie2.\n",
            "Preparing to unpack .../bowtie2_2.4.4-1_amd64.deb ...\n",
            "Unpacking bowtie2 (2.4.4-1) ...\n",
            "Setting up libhtscodecs2:amd64 (1.1.1-3) ...\n",
            "Setting up libhts3:amd64 (1.13+ds-2build1) ...\n",
            "Setting up samtools (1.13-4) ...\n",
            "Setting up bowtie2 (2.4.4-1) ...\n",
            "Processing triggers for man-db (2.10.2-1) ...\n",
            "Processing triggers for libc-bin (2.35-0ubuntu3.4) ...\n",
            "/sbin/ldconfig.real: /usr/local/lib/libtbb.so.12 is not a symbolic link\n",
            "\n",
            "/sbin/ldconfig.real: /usr/local/lib/libtbbbind_2_0.so.3 is not a symbolic link\n",
            "\n",
            "/sbin/ldconfig.real: /usr/local/lib/libtbbmalloc.so.2 is not a symbolic link\n",
            "\n",
            "/sbin/ldconfig.real: /usr/local/lib/libtbbbind.so.3 is not a symbolic link\n",
            "\n",
            "/sbin/ldconfig.real: /usr/local/lib/libtbbmalloc_proxy.so.2 is not a symbolic link\n",
            "\n",
            "/sbin/ldconfig.real: /usr/local/lib/libtbbbind_2_5.so.3 is not a symbolic link\n",
            "\n"
          ]
        }
      ]
    },
    {
      "cell_type": "code",
      "source": [
        "!samtools view -S -b alignment_1.sam > alignment_1.bam\n",
        "!samtools view -S -b alignment_2.sam > alignment_2.bam"
      ],
      "metadata": {
        "id": "XP3VP34N0num"
      },
      "execution_count": 25,
      "outputs": []
    },
    {
      "cell_type": "code",
      "source": [
        "!samtools flagstat alignment_1.bam\n",
        "print()\n",
        "!samtools flagstat alignment_2.bam"
      ],
      "metadata": {
        "colab": {
          "base_uri": "https://localhost:8080/"
        },
        "id": "gVCC4U780ywn",
        "outputId": "97d2d3f4-05bc-4fdf-8e0f-94c9e152ede3"
      },
      "execution_count": 28,
      "outputs": [
        {
          "output_type": "stream",
          "name": "stdout",
          "text": [
            "456056 + 0 in total (QC-passed reads + QC-failed reads)\n",
            "455876 + 0 primary\n",
            "0 + 0 secondary\n",
            "180 + 0 supplementary\n",
            "0 + 0 duplicates\n",
            "0 + 0 primary duplicates\n",
            "455764 + 0 mapped (99.94% : N/A)\n",
            "455584 + 0 primary mapped (99.94% : N/A)\n",
            "0 + 0 paired in sequencing\n",
            "0 + 0 read1\n",
            "0 + 0 read2\n",
            "0 + 0 properly paired (N/A : N/A)\n",
            "0 + 0 with itself and mate mapped\n",
            "0 + 0 singletons (N/A : N/A)\n",
            "0 + 0 with mate mapped to a different chr\n",
            "0 + 0 with mate mapped to a different chr (mapQ>=5)\n",
            "\n",
            "456033 + 0 in total (QC-passed reads + QC-failed reads)\n",
            "455876 + 0 primary\n",
            "0 + 0 secondary\n",
            "157 + 0 supplementary\n",
            "0 + 0 duplicates\n",
            "0 + 0 primary duplicates\n",
            "453764 + 0 mapped (99.50% : N/A)\n",
            "453607 + 0 primary mapped (99.50% : N/A)\n",
            "0 + 0 paired in sequencing\n",
            "0 + 0 read1\n",
            "0 + 0 read2\n",
            "0 + 0 properly paired (N/A : N/A)\n",
            "0 + 0 with itself and mate mapped\n",
            "0 + 0 singletons (N/A : N/A)\n",
            "0 + 0 with mate mapped to a different chr\n",
            "0 + 0 with mate mapped to a different chr (mapQ>=5)\n"
          ]
        }
      ]
    },
    {
      "cell_type": "code",
      "source": [
        "!samtools sort alignment_1.bam -o alignment_sorted_1.bam\n",
        "!samtools sort alignment_2.bam -o alignment_sorted_2.bam\n",
        "!samtools index alignment_sorted_1.bam\n",
        "!samtools index alignment_sorted_2.bam"
      ],
      "metadata": {
        "id": "Capec8O51IA-"
      },
      "execution_count": 29,
      "outputs": []
    },
    {
      "cell_type": "code",
      "source": [
        "!samtools mpileup -f GCF_000005845.2_ASM584v2_genomic.fna alignment_sorted_1.bam > my.mpileup_1"
      ],
      "metadata": {
        "colab": {
          "base_uri": "https://localhost:8080/"
        },
        "id": "loRtOrzo1lBW",
        "outputId": "6af98608-70e9-4ccc-ea01-8499f3e82174"
      },
      "execution_count": 33,
      "outputs": [
        {
          "output_type": "stream",
          "name": "stdout",
          "text": [
            "[mpileup] 1 samples in 1 input files\n"
          ]
        }
      ]
    },
    {
      "cell_type": "code",
      "source": [
        "!samtools mpileup -f GCF_000005845.2_ASM584v2_genomic.fna alignment_sorted_2.bam > my.mpileup_2"
      ],
      "metadata": {
        "colab": {
          "base_uri": "https://localhost:8080/"
        },
        "id": "H5xkVhTZ06U_",
        "outputId": "18616d44-9afb-4d2d-ad9c-7eb1d60a1ae3"
      },
      "execution_count": 32,
      "outputs": [
        {
          "output_type": "stream",
          "name": "stdout",
          "text": [
            "[mpileup] 1 samples in 1 input files\n"
          ]
        }
      ]
    },
    {
      "cell_type": "code",
      "source": [
        "!conda install -c bioconda varscan -y"
      ],
      "metadata": {
        "colab": {
          "base_uri": "https://localhost:8080/"
        },
        "id": "UParkdQa1Xhm",
        "outputId": "c1c4b8a5-05a6-4753-c502-dc8e9ae6974c"
      },
      "execution_count": 30,
      "outputs": [
        {
          "output_type": "stream",
          "name": "stdout",
          "text": [
            "Channels:\n",
            " - bioconda\n",
            " - defaults\n",
            "Platform: linux-64\n",
            "Collecting package metadata (repodata.json): - \b\b\\ \b\b| \b\b/ \b\b- \b\b\\ \b\b| \b\b/ \b\bdone\n",
            "Solving environment: \\ \b\b| \b\bdone\n",
            "\n",
            "## Package Plan ##\n",
            "\n",
            "  environment location: /usr/local\n",
            "\n",
            "  added / updated specs:\n",
            "    - varscan\n",
            "\n",
            "\n",
            "The following packages will be downloaded:\n",
            "\n",
            "    package                    |            build\n",
            "    ---------------------------|-----------------\n",
            "    dbus-1.13.18               |       hb2f20db_0         504 KB\n",
            "    expat-2.5.0                |       h6a678d5_0         172 KB\n",
            "    freetype-2.12.1            |       h4a9f257_0         626 KB\n",
            "    glib-2.69.1                |       he621ea3_2         1.9 MB\n",
            "    libpng-1.6.39              |       h5eee18b_0         304 KB\n",
            "    libxcb-1.15                |       h7f8727e_0         505 KB\n",
            "    openjdk-11.0.13            |       h87a67e3_0       341.0 MB\n",
            "    pcre-8.45                  |       h295c915_0         207 KB\n",
            "    varscan-2.4.6              |       hdfd78af_0         134 KB  bioconda\n",
            "    ------------------------------------------------------------\n",
            "                                           Total:       345.3 MB\n",
            "\n",
            "The following NEW packages will be INSTALLED:\n",
            "\n",
            "  dbus               pkgs/main/linux-64::dbus-1.13.18-hb2f20db_0 \n",
            "  expat              pkgs/main/linux-64::expat-2.5.0-h6a678d5_0 \n",
            "  freetype           pkgs/main/linux-64::freetype-2.12.1-h4a9f257_0 \n",
            "  glib               pkgs/main/linux-64::glib-2.69.1-he621ea3_2 \n",
            "  libpng             pkgs/main/linux-64::libpng-1.6.39-h5eee18b_0 \n",
            "  libxcb             pkgs/main/linux-64::libxcb-1.15-h7f8727e_0 \n",
            "  openjdk            pkgs/main/linux-64::openjdk-11.0.13-h87a67e3_0 \n",
            "  pcre               pkgs/main/linux-64::pcre-8.45-h295c915_0 \n",
            "  varscan            bioconda/noarch::varscan-2.4.6-hdfd78af_0 \n",
            "\n",
            "\n",
            "\n",
            "Downloading and Extracting Packages:\n",
            "openjdk-11.0.13      | 341.0 MB  | :   0% 0/1 [00:00<?, ?it/s]\n",
            "glib-2.69.1          | 1.9 MB    | :   0% 0/1 [00:00<?, ?it/s]\u001b[A\n",
            "\n",
            "freetype-2.12.1      | 626 KB    | :   0% 0/1 [00:00<?, ?it/s]\u001b[A\u001b[A\n",
            "\n",
            "\n",
            "libxcb-1.15          | 505 KB    | :   0% 0/1 [00:00<?, ?it/s]\u001b[A\u001b[A\u001b[A\n",
            "\n",
            "\n",
            "\n",
            "dbus-1.13.18         | 504 KB    | :   0% 0/1 [00:00<?, ?it/s]\u001b[A\u001b[A\u001b[A\u001b[A\n",
            "\n",
            "\n",
            "\n",
            "\n",
            "libpng-1.6.39        | 304 KB    | :   0% 0/1 [00:00<?, ?it/s]\u001b[A\u001b[A\u001b[A\u001b[A\u001b[A\n",
            "\n",
            "\n",
            "\n",
            "\n",
            "\n",
            "pcre-8.45            | 207 KB    | :   0% 0/1 [00:00<?, ?it/s]\u001b[A\u001b[A\u001b[A\u001b[A\u001b[A\u001b[A\n",
            "\n",
            "\n",
            "\n",
            "\n",
            "\n",
            "\n",
            "expat-2.5.0          | 172 KB    | :   0% 0/1 [00:00<?, ?it/s]\u001b[A\u001b[A\u001b[A\u001b[A\u001b[A\u001b[A\u001b[A\n",
            "\n",
            "\n",
            "\n",
            "\n",
            "\n",
            "\n",
            "\n",
            "varscan-2.4.6        | 134 KB    | :   0% 0/1 [00:00<?, ?it/s]\u001b[A\u001b[A\u001b[A\u001b[A\u001b[A\u001b[A\u001b[A\u001b[A\n",
            "\n",
            "openjdk-11.0.13      | 341.0 MB  | :   0% 4.5818830504050846e-05/1 [00:00<1:27:37, 5257.71s/it]\n",
            "glib-2.69.1          | 1.9 MB    | :   1% 0.008227795022244274/1 [00:00<00:29, 30.05s/it]\u001b[A\n",
            "\n",
            "\n",
            "\n",
            "dbus-1.13.18         | 504 KB    | :   3% 0.03175446111028202/1 [00:00<00:07,  7.64s/it]\u001b[A\u001b[A\u001b[A\u001b[A\n",
            "\n",
            "\n",
            "libxcb-1.15          | 505 KB    | :   3% 0.03165825164677399/1 [00:00<00:07,  7.80s/it]\u001b[A\u001b[A\u001b[A\n",
            "\n",
            "\n",
            "\n",
            "\n",
            "libpng-1.6.39        | 304 KB    | :   5% 0.05264290924046281/1 [00:00<00:05,  6.03s/it]\u001b[A\u001b[A\u001b[A\u001b[A\u001b[A\n",
            "\n",
            "\n",
            "\n",
            "\n",
            "\n",
            "\n",
            "expat-2.5.0          | 172 KB    | :   9% 0.09285034229496306/1 [00:00<00:03,  3.49s/it]\u001b[A\u001b[A\u001b[A\u001b[A\u001b[A\u001b[A\u001b[A\n",
            "\n",
            "\n",
            "\n",
            "\n",
            "\n",
            "openjdk-11.0.13      | 341.0 MB  | :   3% 0.026804015844869744/1 [00:00<00:11, 12.18s/it]\n",
            "\n",
            "freetype-2.12.1      | 626 KB    | : 100% 1.0/1 [00:00<00:00,  2.59it/s]                 \u001b[A\u001b[A\n",
            "\n",
            "freetype-2.12.1      | 626 KB    | : 100% 1.0/1 [00:00<00:00,  2.59it/s]\u001b[A\u001b[A\n",
            "\n",
            "\n",
            "\n",
            "dbus-1.13.18         | 504 KB    | : 100% 1.0/1 [00:00<00:00,  2.12it/s]                \u001b[A\u001b[A\u001b[A\u001b[A\n",
            "\n",
            "\n",
            "\n",
            "openjdk-11.0.13      | 341.0 MB  | :   4% 0.0431613383348159/1 [00:00<00:08,  9.27s/it]  \n",
            "\n",
            "\n",
            "libxcb-1.15          | 505 KB    | : 100% 1.0/1 [00:00<00:00,  2.01it/s]                \u001b[A\u001b[A\u001b[A\n",
            "\n",
            "\n",
            "libxcb-1.15          | 505 KB    | : 100% 1.0/1 [00:00<00:00,  2.01it/s]\u001b[A\u001b[A\u001b[A\n",
            "\n",
            "\n",
            "\n",
            "\n",
            "libpng-1.6.39        | 304 KB    | : 100% 1.0/1 [00:00<00:00,  2.00it/s]                \u001b[A\u001b[A\u001b[A\u001b[A\u001b[A\n",
            "\n",
            "\n",
            "\n",
            "\n",
            "libpng-1.6.39        | 304 KB    | : 100% 1.0/1 [00:00<00:00,  2.00it/s]\u001b[A\u001b[A\u001b[A\u001b[A\u001b[A\n",
            "\n",
            "\n",
            "\n",
            "\n",
            "\n",
            "\n",
            "expat-2.5.0          | 172 KB    | : 100% 1.0/1 [00:00<00:00,  1.85it/s]                \u001b[A\u001b[A\u001b[A\u001b[A\u001b[A\u001b[A\u001b[A\n",
            "\n",
            "\n",
            "\n",
            "\n",
            "\n",
            "\n",
            "openjdk-11.0.13      | 341.0 MB  | :   6% 0.06258852246853346/1 [00:00<00:06,  7.44s/it]\n",
            "\n",
            "\n",
            "\n",
            "\n",
            "\n",
            "pcre-8.45            | 207 KB    | : 100% 1.0/1 [00:00<00:00,  1.77it/s]                \u001b[A\u001b[A\u001b[A\u001b[A\u001b[A\u001b[A\n",
            "\n",
            "\n",
            "\n",
            "\n",
            "\n",
            "pcre-8.45            | 207 KB    | : 100% 1.0/1 [00:00<00:00,  1.77it/s]\u001b[A\u001b[A\u001b[A\u001b[A\u001b[A\u001b[A\n",
            "\n",
            "\n",
            "\n",
            "\n",
            "\n",
            "\n",
            "\n",
            "varscan-2.4.6        | 134 KB    | :  12% 0.119584257853556/1 [00:00<00:04,  5.67s/it]\u001b[A\u001b[A\u001b[A\u001b[A\u001b[A\u001b[A\u001b[A\u001b[A\n",
            "\n",
            "\n",
            "\n",
            "\n",
            "\n",
            "\n",
            "\n",
            "openjdk-11.0.13      | 341.0 MB  | :  11% 0.11427216327710281/1 [00:00<00:04,  5.08s/it]\n",
            "glib-2.69.1          | 1.9 MB    | : 100% 1.0/1 [00:00<00:00,  1.25it/s]                 \u001b[A\n",
            "                                                                        \n",
            "                                                                        \u001b[A\n",
            "\n",
            "                                                                        \u001b[A\u001b[A\n",
            "\n",
            "\n",
            "                                                                        \u001b[A\u001b[A\u001b[A\n",
            "\n",
            "\n",
            "\n",
            "                                                                        \u001b[A\u001b[A\u001b[A\u001b[A\n",
            "\n",
            "\n",
            "\n",
            "\n",
            "                                                                        \u001b[A\u001b[A\u001b[A\u001b[A\u001b[A\n",
            "\n",
            "\n",
            "\n",
            "\n",
            "\n",
            "                                                                        \u001b[A\u001b[A\u001b[A\u001b[A\u001b[A\u001b[A\n",
            "\n",
            "\n",
            "\n",
            "\n",
            "\n",
            "\n",
            "                                                                        \u001b[A\u001b[A\u001b[A\u001b[A\u001b[A\u001b[A\u001b[A\n",
            "\n",
            "\n",
            "\n",
            "\n",
            "\n",
            "\n",
            "\n",
            "                                                                        \u001b[A\u001b[A\u001b[A\u001b[A\u001b[A\u001b[A\u001b[A\u001b[A\n",
            "Preparing transaction: - \b\bdone\n",
            "Verifying transaction: | \b\b/ \b\bdone\n",
            "Executing transaction: \\ \b\b| \b\bdone\n"
          ]
        }
      ]
    },
    {
      "cell_type": "code",
      "source": [
        "!varscan mpileup2snp my.mpileup_1 --min-var-freq 0.25 --variants --output-vcf 1 > VarScan_results_1.vcf"
      ],
      "metadata": {
        "colab": {
          "base_uri": "https://localhost:8080/"
        },
        "id": "STwlmQPK1tPY",
        "outputId": "6e01afb5-3971-46de-d071-286308e4acdd"
      },
      "execution_count": 37,
      "outputs": [
        {
          "output_type": "stream",
          "name": "stdout",
          "text": [
            "Only SNPs will be reported\n",
            "Warning: No p-value threshold provided, so p-values will not be calculated\n",
            "Min coverage:\t8\n",
            "Min reads2:\t2\n",
            "Min var freq:\t0.25\n",
            "Min avg qual:\t15\n",
            "P-value thresh:\t0.01\n",
            "Reading input from my.mpileup_1\n",
            "4639939 bases in pileup file\n",
            "6 variant positions (6 SNP, 0 indel)\n",
            "0 were failed by the strand-filter\n",
            "6 variant positions reported (6 SNP, 0 indel)\n"
          ]
        }
      ]
    },
    {
      "cell_type": "code",
      "source": [
        "!varscan mpileup2snp my.mpileup_2 --min-var-freq 0.25 --variants --output-vcf 1 > VarScan_results_2.vcf"
      ],
      "metadata": {
        "colab": {
          "base_uri": "https://localhost:8080/"
        },
        "id": "nvG0fcvs11aH",
        "outputId": "b43afed9-d258-4165-e90b-9904e2e9bc0f"
      },
      "execution_count": 36,
      "outputs": [
        {
          "output_type": "stream",
          "name": "stdout",
          "text": [
            "Only SNPs will be reported\n",
            "Warning: No p-value threshold provided, so p-values will not be calculated\n",
            "Min coverage:\t8\n",
            "Min reads2:\t2\n",
            "Min var freq:\t0.25\n",
            "Min avg qual:\t15\n",
            "P-value thresh:\t0.01\n",
            "Reading input from my.mpileup_2\n",
            "4640344 bases in pileup file\n",
            "5 variant positions (5 SNP, 0 indel)\n",
            "0 were failed by the strand-filter\n",
            "5 variant positions reported (5 SNP, 0 indel)\n"
          ]
        }
      ]
    },
    {
      "cell_type": "code",
      "source": [],
      "metadata": {
        "id": "G8MKyj5Z13JY"
      },
      "execution_count": null,
      "outputs": []
    }
  ]
}